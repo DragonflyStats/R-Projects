{
 "cells": [
  {
   "cell_type": "code",
   "execution_count": null,
   "metadata": {
    "collapsed": true
   },
   "outputs": [],
   "source": [
    "cor(Cheese) "
   ]
  },
  {
   "cell_type": "code",
   "execution_count": null,
   "metadata": {
    "collapsed": true
   },
   "outputs": [],
   "source": [
    "### Simple Linear Regression Models "
   ]
  },
  {
   "cell_type": "code",
   "execution_count": null,
   "metadata": {
    "collapsed": true
   },
   "outputs": [],
   "source": [
    "FitA = lm(Taste ~ Acetic, data = Cheese) \n",
    "FitB = lm(Taste ~ H2S, data = Cheese) \n",
    "FitC = lm(Taste ~ Lactic, data = Cheese)"
   ]
  },
  {
   "cell_type": "code",
   "execution_count": null,
   "metadata": {
    "collapsed": true
   },
   "outputs": [],
   "source": [
    "summary(FitA)"
   ]
  },
  {
   "cell_type": "code",
   "execution_count": null,
   "metadata": {
    "collapsed": true
   },
   "outputs": [],
   "source": [
    "summary(FitB)"
   ]
  },
  {
   "cell_type": "code",
   "execution_count": null,
   "metadata": {
    "collapsed": true
   },
   "outputs": [],
   "source": [
    "summary(FitC)"
   ]
  },
  {
   "cell_type": "code",
   "execution_count": null,
   "metadata": {
    "collapsed": true
   },
   "outputs": [],
   "source": [
    " Call: lm(formula = Taste ~ Acetic, data = Cheese) Residuals: Min 1Q Median 3Q Max -29.642 -7.443 2.082 6.597 26.581 Coefficients: Estimate Std. Error t value Pr(>|t|) (Intercept) -61.499 24.846 -2.475 0.01964 * Acetic 15.648 4.496 3.481 0.00166 ** --- Signif. codes: 0 ‘***’ 0.001 ‘**’ 0.01 ‘*’ 0.05 ‘.’ 0.1 ‘ ’ 1 Residual standard error: 13.82 on 28 degrees of freedom Multiple R-squared: 0.302, Adjusted R-squared: 0.2771 F-statistic: 12.11 on 1 and 28 DF, p-value: 0.001658\n",
    ">  Call: lm(formula = Taste ~ H2S, data = Cheese) Residuals: Min 1Q Median 3Q Max -15.426 -7.611 -3.491 6.420 25.687 Coefficients: Estimate Std. Error t value Pr(>|t|) (Intercept) -9.7868 5.9579 -1.643 0.112 H2S 5.7761 0.9458 6.107 1.37e-06 *** --- Signif. codes: 0 ‘***’ 0.001 ‘**’ 0.01 ‘*’ 0.05 ‘.’ 0.1 ‘ ’ 1 Residual standard error: 10.83 on 28 degrees of freedom Multiple R-squared: 0.5712, Adjusted R-squared: 0.5558 F-statistic: 37.29 on 1 and 28 DF, p-value: 1.374e-06\n",
    ">  Call: lm(formula = Taste ~ Lactic, data = Cheese) Residuals: Min 1Q Median 3Q Max -19.9439 -8.6839 -0.1095 8.9998 27.4245 Coefficients: Estimate Std. Error t value Pr(>|t|) (Intercept) -29.859 10.582 -2.822 0.00869 ** Lactic 37.720 7.186 5.249 1.41e-05 *** --- Signif. codes: 0 ‘***’ 0.001 ‘**’ 0.01 ‘*’ 0.05 ‘.’ 0.1 ‘ ’ 1 Residual standard error: 11.75 on 28 degrees of freedom Multiple R-squared: 0.4959, Adjusted R-squared: 0.4779 F-statistic: 27.55 on 1 and 28 DF, p-value: 1.405e-05\n"
   ]
  },
  {
   "cell_type": "code",
   "execution_count": null,
   "metadata": {
    "collapsed": true
   },
   "outputs": [],
   "source": [
    "Regression Models using two or more independent variables. > Fit1 = lm(Taste ~ Acetic + H2S, data = Cheese) > Fit2 = lm(Taste ~ Acetic + Lactic, data = Cheese) > Fit3 = lm(Taste ~ H2S + Lactic, data = Cheese) > Fit4 = lm(Taste ~ Acetic + H2S + Lactic, data = Cheese)\n",
    "Akaike Information Criterion > AIC(FitA) [1] 246.6389 > AIC(FitB) [1] 232.0245 > AIC(FitC) [1] 236.8724\n"
   ]
  },
  {
   "cell_type": "code",
   "execution_count": null,
   "metadata": {
    "collapsed": true
   },
   "outputs": [],
   "source": [
    "For the multiple linear regression models. > AIC(Fit1) [1] 233.2438 > AIC(Fit2) [1] 237.3884 > AIC(Fit3) [1] 227.7838 > AIC(Fit4) [1] 229.7775\n",
    "Summary of model selection metrics. Model Ind. Variables Multiple R2 Adjusted R2 AIC (highest *) (highest *) (lowest *)\n"
   ]
  },
  {
   "cell_type": "code",
   "execution_count": null,
   "metadata": {
    "collapsed": true
   },
   "outputs": [],
   "source": [
    "FitA\n",
    "Acetic\n",
    "0.3020\n",
    "0.2771\n",
    "246.6389 FitB H2S 0.5712 0.5558 232.0245\n",
    "FitC\n",
    "Lactic\n",
    "0.4959\n",
    "0.4779\n",
    "236.8724 Fit1 Acetic, H2S 0.5822 0.5512 233.2438\n",
    "Fit2\n",
    "Acetic, Lactic\n",
    "0.5203\n",
    "0.4847\n",
    "237.3884 Fit3 H2S, Lactic 0.6517 0.6259 * 227.7838 *\n",
    "Fit4\n",
    "All Three\n",
    "0.6518 *\n",
    "0.6116\n",
    "229.7775"
   ]
  }
 ],
 "metadata": {
  "kernelspec": {
   "display_name": "R",
   "language": "R",
   "name": "r"
  },
  "language_info": {
   "codemirror_mode": "r",
   "file_extension": ".r",
   "mimetype": "text/x-r-source",
   "name": "R",
   "pygments_lexer": "r",
   "version": "3.3.0"
  }
 },
 "nbformat": 4,
 "nbformat_minor": 2
}
